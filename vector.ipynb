{
 "cells": [
  {
   "cell_type": "code",
   "execution_count": 1,
   "metadata": {},
   "outputs": [],
   "source": [
    "import pickle\n",
    "from sklearn.feature_extraction.text import TfidfVectorizer\n",
    "from sklearn.naive_bayes import MultinomialNB\n",
    "from sklearn.svm import SVC\n"
   ]
  },
  {
   "cell_type": "code",
   "execution_count": 2,
   "metadata": {},
   "outputs": [],
   "source": [
    "\n",
    "# Contoh data pelatihan\n",
    "X_train = [\"pelakor\", \"suami orang\", \"jijik\"]\n",
    "y_train = [0, 1, 0]\n",
    "\n",
    "# Latih TfidfVectorizer\n",
    "vectorizer = TfidfVectorizer(max_features=5000)\n",
    "X_train_vectorized = vectorizer.fit_transform(X_train)\n",
    "\n",
    "# Latih model\n",
    "nb_model = MultinomialNB().fit(X_train_vectorized, y_train)\n",
    "svm_model = SVC().fit(X_train_vectorized, y_train)\n",
    "\n",
    "# Simpan model dan vectorizer\n",
    "with open('komen_instagram_nb.sav', 'wb') as nb_file, open('komen_instagram_svm.sav', 'wb') as svm_file, open('tfidf_vectorizer.sav', 'wb') as vec_file:\n",
    "    pickle.dump(nb_model, nb_file)\n",
    "    pickle.dump(svm_model, svm_file)\n",
    "    pickle.dump(vectorizer, vec_file)"
   ]
  }
 ],
 "metadata": {
  "kernelspec": {
   "display_name": "Python 3",
   "language": "python",
   "name": "python3"
  },
  "language_info": {
   "codemirror_mode": {
    "name": "ipython",
    "version": 3
   },
   "file_extension": ".py",
   "mimetype": "text/x-python",
   "name": "python",
   "nbconvert_exporter": "python",
   "pygments_lexer": "ipython3",
   "version": "3.12.3"
  }
 },
 "nbformat": 4,
 "nbformat_minor": 2
}
